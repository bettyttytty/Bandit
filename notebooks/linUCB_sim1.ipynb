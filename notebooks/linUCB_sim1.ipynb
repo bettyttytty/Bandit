{
 "cells": [
  {
   "cell_type": "markdown",
   "metadata": {},
   "source": [
    "## Simulation1 structure"
   ]
  },
  {
   "cell_type": "markdown",
   "metadata": {},
   "source": [
    "**Bandit algorithm** : LinUCB .. (other algorithms: epsilon greedy, thompson sampling ... etc)"
   ]
  },
  {
   "cell_type": "markdown",
   "metadata": {},
   "source": [
    "Aim : Estimate the relative performance of an RL agent assuming that *a third of the sample does not accurately report their non-adherence barrier at baseline*\n",
    "\n",
    "Bandits = Patients ( 60 total with different barrier to medication adherence)  \n",
    "    - type1 = safety and efficacy of their medications\n",
    "    - type2 = doubts about their disease severity\n",
    "    - type3 = both concerns about their medications as well as problems remembering to take them\n",
    "    Baseline adherence rate : 57%\n",
    "\n",
    "Agent = Chooses action based on LinUCB  \n",
    "    - Expected reward of action is linear to the state(context) of action\n",
    "    - where weights are obtained by incremental ridge regression\n",
    "$$\\hat{w}_{a,t} = argmin_v\\ \\lambda||v||^2 + \\sum_{t':a_{t'}=a}(\\hat{r_{t'}} - v^Tx_{t',a})$$\n",
    "$$a_t = argmax_{a\\in{1,..,K}} \\hat{w_a}^Tx_{t,a} + c_t\\sqrt{x_{t,a}^T\\Sigma_{a,t}x_{t,a}}$$\n"
   ]
  },
  {
   "cell_type": "markdown",
   "metadata": {},
   "source": [
    "Ridge regression weight summation part is added for all the time points where action was a. ( Agent should be remembering action according to time)"
   ]
  },
  {
   "cell_type": "code",
   "execution_count": 56,
   "metadata": {
    "collapsed": true
   },
   "outputs": [],
   "source": [
    "import numpy as np\n",
    "import matplotlib.pyplot as plt\n",
    "import pandas as pd\n",
    "\n",
    "%matplotlib inline"
   ]
  },
  {
   "cell_type": "code",
   "execution_count": 3,
   "metadata": {
    "collapsed": true
   },
   "outputs": [],
   "source": [
    "patients = np.vstack(\n",
    "            (np.tile([1, 0, 0], (20,1)),\n",
    "             np.tile([0, 1, 0], (20,1)),\n",
    "             np.tile([1, 0, 1], (20,1))))"
   ]
  },
  {
   "cell_type": "code",
   "execution_count": 851,
   "metadata": {
    "collapsed": true
   },
   "outputs": [],
   "source": [
    "class MultiArmedBandit():\n",
    "    \"\"\"\n",
    "    Multi-armed single Bandit\n",
    "    Args\n",
    "        k: number of arms\n",
    "    \"\"\"\n",
    "    def __init__(self, k):\n",
    "        self.k = k\n",
    "        self.action_values = np.zeros(k)\n",
    "        self.optimal = None\n",
    "        \n",
    "    def reset(self):\n",
    "        self.action_values = np.zeros(self.k)\n",
    "        self.optimal = None\n",
    "    \n",
    "    def pull(self, action):\n",
    "        return 0, True  # returns reward and True if action is optimal.\n",
    "\n",
    "    \n",
    "class ContextualBandit(MultiArmedBandit):\n",
    "    \"\"\"\n",
    "    Usually it is normal to have the agent keep the state of each bandit.\n",
    "    But in some cases it is easier to have bandit keep their own state.\n",
    "    Args\n",
    "        k: number of arms\n",
    "        d: dimension of state vector given action\n",
    "    \"\"\"\n",
    "    def __init__(self, k, d):  # d: dimension of state\n",
    "        super(ContextualBandit, self).__init__(k)\n",
    "        self.d = d\n",
    "        self.states = np.zeros((self.k, self.d))\n",
    "    \n",
    "    def reset(self):\n",
    "        self.action_values = np.zeros(self.k)\n",
    "        self.optimal = 0\n",
    "        self.states = np.zeros((self.k, self.d))"
   ]
  },
  {
   "cell_type": "code",
   "execution_count": 856,
   "metadata": {
    "collapsed": true
   },
   "outputs": [],
   "source": [
    "class Patient(ContextualBandit):  # Patients have their context record...\n",
    "    def __init__(self, k, d, patient_id, barriers):\n",
    "        assert type(barriers) == np.ndarray\n",
    "        \n",
    "        super().__init__(k, d)\n",
    "        self.memory = {action: np.array([]) for action in range(self.k)}\n",
    "        self.patient_id = patient_id\n",
    "        self.barriers = barriers  # possible examples = [1, 0, 0], [0, 1, 0], [1, 0, 1]\n",
    "        self.reset()\n",
    "\n",
    "    def __set_alpha(self, barriers):\n",
    "#         return np.array([barrier*0.65\n",
    "#                          if barrier == 1 else 1 for barrier in barriers])\n",
    "        return np.array([barrier*np.random.normal(0.65, 0.15)\n",
    "                         if barrier == 1 else 1 for barrier in barriers])\n",
    "#         return np.array([barrier*max(min(np.random.normal(0.65, 0.3), 1), 0)\n",
    "#                          if barrier == 1 else 1 for barrier in self.barriers])\n",
    "\n",
    "\n",
    "    def __set_adherence(self, alphas):  # We can change this with logit function later.\n",
    "        return(np.prod(alphas, axis=0))\n",
    "\n",
    "    def __update_adherence(self, match):\n",
    "#         self.alphas = np.array([barrier*max(min(np.random.normal(0.65, 0.3), 1), 0)\n",
    "#                                 if barrier == 1 else 1 for barrier in self.barriers])\n",
    "        self.alphas = self.__set_alpha(self.barriers)\n",
    "        if self.barriers[match]:\n",
    "#             beta = max(min(np.random.normal(loc=0.7, scale=0.3), 1), 0)\n",
    "#             self.alphas[match] = np.minimum(self.alphas[match] + beta*(1.0 - self.alphas[match]), 1)\n",
    "            beta = np.random.normal(loc=0.7, scale=0.3)\n",
    "            self.alphas[match] = self.alphas[match] + beta*(1.0 - self.alphas[match])\n",
    "        self.action_values = np.multiply(self.alphas, -1)\n",
    "        self.adherence = np.prod(self.alphas, axis=0)\n",
    "    \n",
    "    def __update_state(self, action, iseffective):\n",
    "        # Memory를 state의 dimension에 맞게 update 해야\n",
    "        if self.memory[action].size:\n",
    "            self.memory[action] = np.vstack((self.memory[action], np.array([int(iseffective)])))\n",
    "        else:\n",
    "            self.memory[action] = np.array([int(iseffective)])\n",
    "        self.states[action] = sum(self.memory[action][-5:])  # FIXME\n",
    "    \n",
    "    def reset(self):\n",
    "        self.alphas = self.__set_alpha(self.barriers)\n",
    "        self.action_values = np.multiply(self.alphas, -1)\n",
    "        self.adherence = self.__set_adherence(self.alphas)\n",
    "        self.optimal = np.where((self.alphas < 1) & (self.barriers == 1))[0]\n",
    "        self.states = np.zeros((self.k, self.d))\n",
    "        self.memory = {action: np.array([]) for action in range(self.k)}\n",
    "\n",
    "    \n",
    "    def pull(self, action):\n",
    "        self.__update_adherence(action)\n",
    "        self.optimal = np.where((self.alphas < 1) & (self.barriers == 1))[0]\n",
    "        # 어떻게 할 것인가.... 다 111되면 어떻게 처리 할 것인가 그래도 optimal한 선택인가 ? ... 시 뽤 \n",
    "        if np.random.rand() < self.adherence:\n",
    "            self.__update_state(action, True)\n",
    "            return (1, action in self.optimal)\n",
    "        else:\n",
    "            self.__update_state(action, False)\n",
    "            return (0, action in self.optimal)\n",
    "    \n",
    "    def __repr__(self):\n",
    "        return(\"Patient {} with barriers {}\".format(self.patient_id, self.barriers))"
   ]
  },
  {
   "cell_type": "code",
   "execution_count": 4,
   "metadata": {},
   "outputs": [],
   "source": [
    "from example.sim3_bandit import Patient\n",
    "import numpy as np"
   ]
  },
  {
   "cell_type": "code",
   "execution_count": 5,
   "metadata": {
    "collapsed": true
   },
   "outputs": [],
   "source": [
    "k = 4\n",
    "d = 2"
   ]
  },
  {
   "cell_type": "code",
   "execution_count": 9,
   "metadata": {},
   "outputs": [],
   "source": [
    "p = Patient(k, d, 1, np.array([1, 0, 0]))"
   ]
  },
  {
   "cell_type": "code",
   "execution_count": 10,
   "metadata": {},
   "outputs": [
    {
     "data": {
      "text/plain": [
       "array([0], dtype=int64)"
      ]
     },
     "execution_count": 10,
     "metadata": {},
     "output_type": "execute_result"
    }
   ],
   "source": [
    "p.optimal"
   ]
  },
  {
   "cell_type": "code",
   "execution_count": 31,
   "metadata": {},
   "outputs": [
    {
     "data": {
      "text/plain": [
       "0.89480100888370118"
      ]
     },
     "execution_count": 31,
     "metadata": {},
     "output_type": "execute_result"
    }
   ],
   "source": [
    "p.adherence"
   ]
  },
  {
   "cell_type": "code",
   "execution_count": 42,
   "metadata": {},
   "outputs": [
    {
     "data": {
      "text/plain": [
       "True"
      ]
     },
     "execution_count": 42,
     "metadata": {},
     "output_type": "execute_result"
    }
   ],
   "source": [
    "p.isLingering"
   ]
  },
  {
   "cell_type": "code",
   "execution_count": 36,
   "metadata": {},
   "outputs": [
    {
     "data": {
      "text/plain": [
       "0.95"
      ]
     },
     "execution_count": 36,
     "metadata": {},
     "output_type": "execute_result"
    }
   ],
   "source": [
    "p.fatigue_fct"
   ]
  },
  {
   "cell_type": "code",
   "execution_count": 44,
   "metadata": {},
   "outputs": [
    {
     "data": {
      "text/plain": [
       "0"
      ]
     },
     "execution_count": 44,
     "metadata": {},
     "output_type": "execute_result"
    }
   ],
   "source": [
    "p.optimal[0]"
   ]
  },
  {
   "cell_type": "code",
   "execution_count": 41,
   "metadata": {},
   "outputs": [
    {
     "data": {
      "text/plain": [
       "array([[ 0.,  0.,  0.,  0.,  0.,  0.,  1.,  1.,  0.,  0.,  0.],\n",
       "       [ 0.,  0.,  0.,  0.,  0.,  0.,  0.,  0.,  0.,  1.,  1.],\n",
       "       [ 0.,  0.,  0.,  0.,  0.,  0.,  0.,  0.,  0.,  0.,  0.]])"
      ]
     },
     "execution_count": 41,
     "metadata": {},
     "output_type": "execute_result"
    }
   ],
   "source": [
    "p.msg_sent"
   ]
  },
  {
   "cell_type": "code",
   "execution_count": 40,
   "metadata": {},
   "outputs": [
    {
     "data": {
      "text/plain": [
       "(1, False)"
      ]
     },
     "execution_count": 40,
     "metadata": {},
     "output_type": "execute_result"
    }
   ],
   "source": [
    "p.pull(1)"
   ]
  },
  {
   "cell_type": "code",
   "execution_count": 62,
   "metadata": {},
   "outputs": [
    {
     "data": {
      "text/plain": [
       "array([ 0.87757733,  1.        ,  1.        ])"
      ]
     },
     "execution_count": 62,
     "metadata": {},
     "output_type": "execute_result"
    }
   ],
   "source": [
    "p.alphas"
   ]
  },
  {
   "cell_type": "code",
   "execution_count": 63,
   "metadata": {},
   "outputs": [
    {
     "data": {
      "text/plain": [
       "0.87757733066675614"
      ]
     },
     "execution_count": 63,
     "metadata": {},
     "output_type": "execute_result"
    }
   ],
   "source": [
    "p.adherence"
   ]
  },
  {
   "cell_type": "code",
   "execution_count": 103,
   "metadata": {},
   "outputs": [
    {
     "data": {
      "text/plain": [
       "0.63294714685329501"
      ]
     },
     "execution_count": 103,
     "metadata": {},
     "output_type": "execute_result"
    }
   ],
   "source": [
    "np.mean(np.maximum(np.minimum(np.random.normal(0.65, 0.3, 100000), 1), 0))"
   ]
  },
  {
   "cell_type": "code",
   "execution_count": 38,
   "metadata": {},
   "outputs": [
    {
     "data": {
      "text/plain": [
       "0.87911457939878623"
      ]
     },
     "execution_count": 38,
     "metadata": {},
     "output_type": "execute_result"
    }
   ],
   "source": [
    "b = []\n",
    "for a in range(1000):\n",
    "    p.pull(0)\n",
    "    b.append(p.adherence)\n",
    "np.mean(b)"
   ]
  },
  {
   "cell_type": "code",
   "execution_count": 39,
   "metadata": {},
   "outputs": [
    {
     "data": {
      "text/plain": [
       "0.64603268041511441"
      ]
     },
     "execution_count": 39,
     "metadata": {},
     "output_type": "execute_result"
    }
   ],
   "source": [
    "b = []\n",
    "for a in range(1000):\n",
    "    p.pull(1)\n",
    "    b.append(p.adherence)\n",
    "np.mean(b)"
   ]
  },
  {
   "cell_type": "code",
   "execution_count": 41,
   "metadata": {},
   "outputs": [
    {
     "data": {
      "text/plain": [
       "0.72"
      ]
     },
     "execution_count": 41,
     "metadata": {},
     "output_type": "execute_result"
    }
   ],
   "source": [
    "1/3*0.88 + 2/3*0.64"
   ]
  },
  {
   "cell_type": "code",
   "execution_count": 40,
   "metadata": {},
   "outputs": [
    {
     "data": {
      "text/plain": [
       "0.71363914897087866"
      ]
     },
     "execution_count": 40,
     "metadata": {},
     "output_type": "execute_result"
    }
   ],
   "source": [
    "b = []\n",
    "for a in range(1000):\n",
    "    p.pull(np.random.randint(3))\n",
    "    b.append(p.adherence)\n",
    "np.mean(b)"
   ]
  },
  {
   "cell_type": "code",
   "execution_count": 43,
   "metadata": {},
   "outputs": [
    {
     "data": {
      "text/plain": [
       "(1, False)"
      ]
     },
     "execution_count": 43,
     "metadata": {},
     "output_type": "execute_result"
    }
   ],
   "source": [
    "p.pull(1)"
   ]
  },
  {
   "cell_type": "code",
   "execution_count": 44,
   "metadata": {},
   "outputs": [
    {
     "data": {
      "text/plain": [
       "array([1, 1, 1])"
      ]
     },
     "execution_count": 44,
     "metadata": {},
     "output_type": "execute_result"
    }
   ],
   "source": [
    "p.alphas"
   ]
  },
  {
   "cell_type": "code",
   "execution_count": 45,
   "metadata": {},
   "outputs": [
    {
     "data": {
      "text/plain": [
       "array([-1, -1, -1])"
      ]
     },
     "execution_count": 45,
     "metadata": {},
     "output_type": "execute_result"
    }
   ],
   "source": [
    "p.action_values"
   ]
  },
  {
   "cell_type": "code",
   "execution_count": 46,
   "metadata": {},
   "outputs": [
    {
     "data": {
      "text/plain": [
       "array([[ 5.],\n",
       "       [ 3.],\n",
       "       [ 4.]])"
      ]
     },
     "execution_count": 46,
     "metadata": {},
     "output_type": "execute_result"
    }
   ],
   "source": [
    "p.states"
   ]
  },
  {
   "cell_type": "code",
   "execution_count": 47,
   "metadata": {},
   "outputs": [
    {
     "data": {
      "text/plain": [
       "{0: array([[1],\n",
       "        [1],\n",
       "        [1],\n",
       "        ..., \n",
       "        [1],\n",
       "        [1],\n",
       "        [1]]), 1: array([[1],\n",
       "        [1],\n",
       "        [1],\n",
       "        ..., \n",
       "        [0],\n",
       "        [1],\n",
       "        [1]]), 2: array([[0],\n",
       "        [1],\n",
       "        [1],\n",
       "        [0],\n",
       "        [0],\n",
       "        [0],\n",
       "        [0],\n",
       "        [1],\n",
       "        [1],\n",
       "        [0],\n",
       "        [1],\n",
       "        [0],\n",
       "        [1],\n",
       "        [1],\n",
       "        [1],\n",
       "        [1],\n",
       "        [0],\n",
       "        [1],\n",
       "        [0],\n",
       "        [0],\n",
       "        [1],\n",
       "        [0],\n",
       "        [0],\n",
       "        [0],\n",
       "        [1],\n",
       "        [1],\n",
       "        [1],\n",
       "        [1],\n",
       "        [1],\n",
       "        [1],\n",
       "        [1],\n",
       "        [1],\n",
       "        [0],\n",
       "        [1],\n",
       "        [0],\n",
       "        [1],\n",
       "        [0],\n",
       "        [1],\n",
       "        [1],\n",
       "        [0],\n",
       "        [1],\n",
       "        [1],\n",
       "        [1],\n",
       "        [1],\n",
       "        [0],\n",
       "        [0],\n",
       "        [1],\n",
       "        [1],\n",
       "        [1],\n",
       "        [0],\n",
       "        [1],\n",
       "        [0],\n",
       "        [0],\n",
       "        [0],\n",
       "        [1],\n",
       "        [1],\n",
       "        [1],\n",
       "        [1],\n",
       "        [0],\n",
       "        [1],\n",
       "        [0],\n",
       "        [1],\n",
       "        [1],\n",
       "        [0],\n",
       "        [1],\n",
       "        [1],\n",
       "        [0],\n",
       "        [1],\n",
       "        [0],\n",
       "        [0],\n",
       "        [0],\n",
       "        [1],\n",
       "        [0],\n",
       "        [1],\n",
       "        [1],\n",
       "        [0],\n",
       "        [0],\n",
       "        [0],\n",
       "        [0],\n",
       "        [1],\n",
       "        [0],\n",
       "        [1],\n",
       "        [1],\n",
       "        [1],\n",
       "        [1],\n",
       "        [1],\n",
       "        [1],\n",
       "        [1],\n",
       "        [0],\n",
       "        [1],\n",
       "        [0],\n",
       "        [0],\n",
       "        [0],\n",
       "        [1],\n",
       "        [1],\n",
       "        [0],\n",
       "        [0],\n",
       "        [1],\n",
       "        [0],\n",
       "        [0],\n",
       "        [1],\n",
       "        [1],\n",
       "        [0],\n",
       "        [1],\n",
       "        [0],\n",
       "        [1],\n",
       "        [1],\n",
       "        [1],\n",
       "        [1],\n",
       "        [0],\n",
       "        [0],\n",
       "        [1],\n",
       "        [0],\n",
       "        [1],\n",
       "        [1],\n",
       "        [1],\n",
       "        [1],\n",
       "        [1],\n",
       "        [1],\n",
       "        [1],\n",
       "        [1],\n",
       "        [1],\n",
       "        [0],\n",
       "        [1],\n",
       "        [0],\n",
       "        [1],\n",
       "        [0],\n",
       "        [0],\n",
       "        [1],\n",
       "        [1],\n",
       "        [0],\n",
       "        [1],\n",
       "        [0],\n",
       "        [0],\n",
       "        [1],\n",
       "        [1],\n",
       "        [1],\n",
       "        [0],\n",
       "        [0],\n",
       "        [1],\n",
       "        [1],\n",
       "        [0],\n",
       "        [1],\n",
       "        [1],\n",
       "        [1],\n",
       "        [1],\n",
       "        [0],\n",
       "        [1],\n",
       "        [0],\n",
       "        [1],\n",
       "        [0],\n",
       "        [1],\n",
       "        [1],\n",
       "        [1],\n",
       "        [0],\n",
       "        [1],\n",
       "        [0],\n",
       "        [1],\n",
       "        [1],\n",
       "        [0],\n",
       "        [0],\n",
       "        [1],\n",
       "        [0],\n",
       "        [1],\n",
       "        [1],\n",
       "        [0],\n",
       "        [0],\n",
       "        [1],\n",
       "        [0],\n",
       "        [1],\n",
       "        [1],\n",
       "        [1],\n",
       "        [1],\n",
       "        [1],\n",
       "        [0],\n",
       "        [0],\n",
       "        [1],\n",
       "        [1],\n",
       "        [0],\n",
       "        [1],\n",
       "        [0],\n",
       "        [1],\n",
       "        [0],\n",
       "        [1],\n",
       "        [0],\n",
       "        [1],\n",
       "        [0],\n",
       "        [1],\n",
       "        [1],\n",
       "        [0],\n",
       "        [0],\n",
       "        [1],\n",
       "        [1],\n",
       "        [1],\n",
       "        [0],\n",
       "        [1],\n",
       "        [1],\n",
       "        [1],\n",
       "        [1],\n",
       "        [0],\n",
       "        [1],\n",
       "        [1],\n",
       "        [1],\n",
       "        [1],\n",
       "        [1],\n",
       "        [0],\n",
       "        [1],\n",
       "        [0],\n",
       "        [0],\n",
       "        [0],\n",
       "        [1],\n",
       "        [1],\n",
       "        [1],\n",
       "        [1],\n",
       "        [0],\n",
       "        [0],\n",
       "        [0],\n",
       "        [0],\n",
       "        [1],\n",
       "        [1],\n",
       "        [1],\n",
       "        [0],\n",
       "        [0],\n",
       "        [1],\n",
       "        [0],\n",
       "        [1],\n",
       "        [0],\n",
       "        [1],\n",
       "        [1],\n",
       "        [0],\n",
       "        [1],\n",
       "        [0],\n",
       "        [0],\n",
       "        [1],\n",
       "        [1],\n",
       "        [1],\n",
       "        [0],\n",
       "        [1],\n",
       "        [1],\n",
       "        [1],\n",
       "        [1],\n",
       "        [1],\n",
       "        [1],\n",
       "        [0],\n",
       "        [1],\n",
       "        [0],\n",
       "        [0],\n",
       "        [1],\n",
       "        [0],\n",
       "        [1],\n",
       "        [0],\n",
       "        [1],\n",
       "        [1],\n",
       "        [0],\n",
       "        [0],\n",
       "        [1],\n",
       "        [1],\n",
       "        [1],\n",
       "        [0],\n",
       "        [1],\n",
       "        [1],\n",
       "        [1],\n",
       "        [1],\n",
       "        [1],\n",
       "        [1],\n",
       "        [0],\n",
       "        [1],\n",
       "        [0],\n",
       "        [0],\n",
       "        [0],\n",
       "        [0],\n",
       "        [1],\n",
       "        [1],\n",
       "        [0],\n",
       "        [0],\n",
       "        [1],\n",
       "        [1],\n",
       "        [1],\n",
       "        [1],\n",
       "        [1],\n",
       "        [1],\n",
       "        [0],\n",
       "        [1],\n",
       "        [1],\n",
       "        [1],\n",
       "        [1],\n",
       "        [1],\n",
       "        [1],\n",
       "        [0],\n",
       "        [1],\n",
       "        [1],\n",
       "        [1],\n",
       "        [1],\n",
       "        [1],\n",
       "        [1],\n",
       "        [0],\n",
       "        [1],\n",
       "        [0],\n",
       "        [1],\n",
       "        [0],\n",
       "        [1],\n",
       "        [0],\n",
       "        [0],\n",
       "        [0],\n",
       "        [1],\n",
       "        [1],\n",
       "        [1],\n",
       "        [1],\n",
       "        [0],\n",
       "        [1],\n",
       "        [1],\n",
       "        [1],\n",
       "        [0],\n",
       "        [1],\n",
       "        [0],\n",
       "        [1],\n",
       "        [1],\n",
       "        [1],\n",
       "        [1]])}"
      ]
     },
     "execution_count": 47,
     "metadata": {},
     "output_type": "execute_result"
    }
   ],
   "source": [
    "p.memory"
   ]
  },
  {
   "cell_type": "markdown",
   "metadata": {},
   "source": [
    "# Bandit manager"
   ]
  },
  {
   "cell_type": "code",
   "execution_count": 742,
   "metadata": {
    "collapsed": true
   },
   "outputs": [],
   "source": [
    "class MultiBandits():\n",
    "    def __init__(self):\n",
    "        self.bandits = []\n",
    "        self.bandit = None\n",
    "        self.cursor = 0\n",
    "        self.k = 0\n",
    "        self.reset()\n",
    "    \n",
    "    def reset(self):\n",
    "        self.bandits = []\n",
    "        self.bandit = None\n",
    "        self.cursor = 0\n",
    "\n",
    "    def add_bandit(self, bandit):\n",
    "        self.bandits.append(bandit)\n",
    "        self.k = bandit.k\n",
    "\n",
    "    def get_bandit(self):  \n",
    "        # 여러 bandit들 중 어떤 순서로 고를 껀지, 순서대로 고를껀지 랜덤하게 고를껀지 정해야..\n",
    "        # self.bandit = self.bandits[np.random.choice(list(self.bandits))]\n",
    "        # 아니면 처음에 bandit을 shuffle 한 상태로 add 해주면 됨 ! \n",
    "        self.bandit = self.bandits[self.cursor]\n",
    "        self.k = self.bandit.k\n",
    "        self.cursor += 1\n",
    "        if self.cursor == len(self.bandits):\n",
    "            self.cursor = 0\n",
    "    \n",
    "    def pull(self, action):\n",
    "        return self.bandit.pull(action)"
   ]
  },
  {
   "cell_type": "markdown",
   "metadata": {},
   "source": [
    "### Add all the generated patient data into Contextual_bandit"
   ]
  },
  {
   "cell_type": "code",
   "execution_count": 49,
   "metadata": {
    "collapsed": true
   },
   "outputs": [],
   "source": [
    "m_bandits = MultiBandits()"
   ]
  },
  {
   "cell_type": "code",
   "execution_count": 50,
   "metadata": {
    "collapsed": true
   },
   "outputs": [],
   "source": [
    "for patient_id, barrier in enumerate(patients):\n",
    "    patient = Patient(3, 1, barriers=barrier, patient_id=patient_id)\n",
    "    m_bandits.add_bandit(patient)"
   ]
  },
  {
   "cell_type": "code",
   "execution_count": 702,
   "metadata": {
    "collapsed": true
   },
   "outputs": [],
   "source": [
    "m_bandits.get_bandit()"
   ]
  },
  {
   "cell_type": "code",
   "execution_count": 703,
   "metadata": {},
   "outputs": [
    {
     "data": {
      "text/plain": [
       "Patient 0 with barriers [1 0 0]"
      ]
     },
     "execution_count": 703,
     "metadata": {},
     "output_type": "execute_result"
    }
   ],
   "source": [
    "m_bandits.bandit"
   ]
  },
  {
   "cell_type": "code",
   "execution_count": 704,
   "metadata": {},
   "outputs": [
    {
     "data": {
      "text/plain": [
       "(1, True)"
      ]
     },
     "execution_count": 704,
     "metadata": {},
     "output_type": "execute_result"
    }
   ],
   "source": [
    "m_bandits.pull(0)"
   ]
  },
  {
   "cell_type": "code",
   "execution_count": 79,
   "metadata": {},
   "outputs": [
    {
     "data": {
      "text/plain": [
       "array([[ 1.],\n",
       "       [ 0.],\n",
       "       [ 0.]])"
      ]
     },
     "execution_count": 79,
     "metadata": {},
     "output_type": "execute_result"
    }
   ],
   "source": [
    "m_bandits.bandit.states"
   ]
  },
  {
   "cell_type": "code",
   "execution_count": 80,
   "metadata": {
    "collapsed": true
   },
   "outputs": [],
   "source": [
    "m_bandits.reset()"
   ]
  },
  {
   "cell_type": "code",
   "execution_count": 81,
   "metadata": {},
   "outputs": [
    {
     "data": {
      "text/plain": [
       "[]"
      ]
     },
     "execution_count": 81,
     "metadata": {},
     "output_type": "execute_result"
    }
   ],
   "source": [
    "m_bandits.bandits"
   ]
  },
  {
   "cell_type": "markdown",
   "metadata": {},
   "source": [
    "# Policy"
   ]
  },
  {
   "cell_type": "code",
   "execution_count": 852,
   "metadata": {
    "collapsed": true
   },
   "outputs": [],
   "source": [
    "class Policy():\n",
    "    \"\"\"\n",
    "    A policy decides an action to be choosen according to the policy\n",
    "    \"\"\"\n",
    "    def choose(self):\n",
    "        pass\n",
    "\n",
    "class UCBPolicy(Policy):\n",
    "    \"\"\"\n",
    "    UCB Policy chooses action which maximizes Upper Confidence Bound\n",
    "    \"\"\"\n",
    "    def __init__(self, c=2):\n",
    "        self.c = c\n",
    "        \n",
    "    def choose(self, agent):\n",
    "        exploration = 2*np.log(agent.t+1) / agent.action_attempts\n",
    "        exploration[np.isnan(exploration)] = 0\n",
    "        exploration = np.power(exploration, 1/self.c)\n",
    "        \n",
    "        ucb = agent.value_estimates + exploration\n",
    "        action = np.argmax(ucb)\n",
    "        return action\n",
    "        \n",
    "\n",
    "class LinUCBPolicy(UCBPolicy):\n",
    "    \"\"\"\n",
    "    LinUCB assumes expected reward is a linear combination of state(context)\n",
    "    given an action.\n",
    "    \"\"\"\n",
    "    def __init__(self, alpha, d):\n",
    "        self.alpha = alpha\n",
    "        self.d = d\n",
    "    \n",
    "    def choose(self, agent):\n",
    "        ucb = np.array([])\n",
    "        \n",
    "        for action, memory in agent.memory.items():\n",
    "            A_inv = np.linalg.inv(memory['A'])\n",
    "            x_t = agent.states[action]\n",
    "            exploration = self.alpha*np.sqrt(np.dot(np.dot(x_t.T, A_inv), x_t))\n",
    "            ucb = np.append(ucb, agent.value_estimates[action]+ exploration)\n",
    "            \n",
    "        ucb += np.random.choice(len(ucb))*0.000001  # For tie values\n",
    "        action = np.argmax(ucb)\n",
    " \n",
    "#         print(est_mean_reward < exploration)\n",
    "#         print(\"UCBs are : {}, t = {}\".format(ucb, agent.t))\n",
    "#         print(\"chosen actions : {}\".format(action))\n",
    "\n",
    "        return action\n",
    "\n",
    "class RandomPolicy(Policy):\n",
    "    \n",
    "    def choose(self, agent):\n",
    "        action = np.random.randint(agent.k)"
   ]
  },
  {
   "cell_type": "markdown",
   "metadata": {},
   "source": [
    "## RL Agent "
   ]
  },
  {
   "cell_type": "markdown",
   "metadata": {},
   "source": [
    "Can be changed according to various simulation environments"
   ]
  },
  {
   "cell_type": "code",
   "execution_count": 853,
   "metadata": {
    "collapsed": true
   },
   "outputs": [],
   "source": [
    "class Agent():\n",
    "    def __init__(self, k, policy, prior=0, gamma=None):\n",
    "        self.policy = policy\n",
    "        self.k = k\n",
    "        self.prior = prior\n",
    "        self.gamma = gamma\n",
    "        self._value_estimates = prior*np.ones(self.k)  # Estimated Mean reward\n",
    "        self.action_attempts = np.zeros(self.k)\n",
    "        self.t = 0\n",
    "        self.last_action = None\n",
    "    \n",
    "    def reset(self):\n",
    "        \"\"\"\n",
    "        Resets the agent's memory to an initial state.\n",
    "        \"\"\"\n",
    "        self._value_estimates[:] = self.prior*np.ones(self.k)\n",
    "        self.action_attempts[:] = np.zeros(self.k)\n",
    "        self.last_action = None\n",
    "        self.t = 0\n",
    "    \n",
    "    def choose(self, random_period):\n",
    "        if self.t < random_period:\n",
    "            action = np.random.randint(self.k)\n",
    "        else:\n",
    "            action = self.policy.choose(self)\n",
    "        self.last_action = action\n",
    "        return action\n",
    "    \n",
    "    def observe(self, reward): # Updating value_estimates ! (calculating mean rewards)\n",
    "        self.action_attempts[self.last_action] += 1\n",
    "        \n",
    "        if self.gamma is None:\n",
    "            g = 1 / self.action_attempts[self.last_action]\n",
    "        else:\n",
    "            g= self.gamma\n",
    "        q = self._value_estimates[self.last_action]\n",
    "        \n",
    "        self._value_estimates[self.last_action] += g*(reward - q)\n",
    "        self.t += 1\n",
    "    \n",
    "    @property\n",
    "    def value_estimates(self):\n",
    "        return self._value_estimates"
   ]
  },
  {
   "cell_type": "markdown",
   "metadata": {},
   "source": [
    "Agent -> 처음에 patient골라지면, state 받고, choose(self), observe(reward"
   ]
  },
  {
   "cell_type": "code",
   "execution_count": 854,
   "metadata": {
    "collapsed": true
   },
   "outputs": [],
   "source": [
    "class ContextualAgent(Agent):\n",
    "    \"\"\"\n",
    "    ( for linUCB disjoint model)\n",
    "    \"\"\"\n",
    "    def __init__(self, k, d, policy, prior=0, gamma=None):\n",
    "        super(ContextualAgent, self).__init__(k, policy, prior, gamma)\n",
    "        self.d = d\n",
    "        self.memory = {action:{'A':np.identity(self.d), 'b':np.zeros((self.d, 1))} for action in range(self.k)}\n",
    "        self.states = None\n",
    "        self.reset()\n",
    "    \n",
    "    def reset(self):\n",
    "        self._value_estimates[:] = self.prior*np.ones(self.k)\n",
    "        self.action_attempts[:] = 0\n",
    "        self.last_action = None\n",
    "        self.t = 0\n",
    "        self.memory = {action:{'A':np.identity(self.d), 'b':np.zeros((self.d, 1))} for action in range(self.k)}\n",
    "        self.states = None\n",
    "        \n",
    "    def choose(self, random_period):\n",
    "        return super().choose(random_period)\n",
    "    \n",
    "    ##################### FIXME\n",
    "    ##### Agent가 random 하게 get_bandit을 하고, 거기서 나온 bandit의 state을 갖고 있는게 밪음.\n",
    "    ### 그렇다면 Agent가 bandit manager가 가진 정보인 총 bandit 수, 그리고 해당 bandit의 state을 보유하고 있어야함.\n",
    "    def get_state(self, bandit):\n",
    "        self.states = bandit.states\n",
    "        for action, memory in self.memory.items():\n",
    "            A = memory['A']\n",
    "            b = memory['b']\n",
    "            A_inv = np.linalg.inv(A)\n",
    "            theta_hat = np.dot(A_inv, b)\n",
    "            x_t = self.states[action]\n",
    "            self._value_estimates[action] = np.dot(x_t.T, theta_hat)\n",
    "            # 사실은 순서가... agent 에서 value estimate을 이미 갖고 있는게.. 맞지 않을까 싶네요..ㅎ\n",
    "            # 그렇게 합시다 ! \n",
    "            \n",
    "    def observe(self, reward):\n",
    "        self.action_attempts[self.last_action] += 1        \n",
    "        self.memory[self.last_action]['A'] += np.outer(self.states[self.last_action],\n",
    "                                                self.states[self.last_action])\n",
    "        if self.memory[self.last_action]['b'].size:\n",
    "            self.memory[self.last_action]['b'] += reward*self.states[self.last_action]        \n",
    "        else:\n",
    "            self.memory[self.last_action]['b'] = reward*self.states[self.last_action]\n",
    "\n",
    "        self.t += 1"
   ]
  },
  {
   "cell_type": "markdown",
   "metadata": {},
   "source": [
    "## Environment"
   ]
  },
  {
   "cell_type": "code",
   "execution_count": 4,
   "metadata": {
    "collapsed": true
   },
   "outputs": [],
   "source": [
    "# class Environment():\n",
    "#     def __init__(self):\n",
    "#         pass\n",
    "    \n",
    "#     def run(self, episode, trial):\n",
    "#         pass\n",
    "    \n",
    "#     def"
   ]
  },
  {
   "cell_type": "markdown",
   "metadata": {},
   "source": [
    "시작! \n",
    "#1. Bandit(Patient)를 정의한다 ! \n",
    "#2. Multibandit이므로, mbandit에다가 더해준다"
   ]
  },
  {
   "cell_type": "markdown",
   "metadata": {},
   "source": [
    "#3. Policy를 고른다. (LinUCB)\n",
    "#4. Agent를 정해준다. Contextualbandit !)"
   ]
  },
  {
   "cell_type": "code",
   "execution_count": 1,
   "metadata": {},
   "outputs": [
    {
     "ename": "NameError",
     "evalue": "name 'MultiBandits' is not defined",
     "output_type": "error",
     "traceback": [
      "\u001b[0;31m---------------------------------------------------------------------------\u001b[0m",
      "\u001b[0;31mNameError\u001b[0m                                 Traceback (most recent call last)",
      "\u001b[0;32m<ipython-input-1-e9a11f7dd5b3>\u001b[0m in \u001b[0;36m<module>\u001b[0;34m()\u001b[0m\n\u001b[0;32m----> 1\u001b[0;31m \u001b[0mm_bandits\u001b[0m \u001b[1;33m=\u001b[0m \u001b[0mMultiBandits\u001b[0m\u001b[1;33m(\u001b[0m\u001b[1;33m)\u001b[0m\u001b[1;33m\u001b[0m\u001b[0m\n\u001b[0m\u001b[1;32m      2\u001b[0m \u001b[1;32mfor\u001b[0m \u001b[0mpatient_id\u001b[0m\u001b[1;33m,\u001b[0m \u001b[0mbarrier\u001b[0m \u001b[1;32min\u001b[0m \u001b[0menumerate\u001b[0m\u001b[1;33m(\u001b[0m\u001b[0mpatients\u001b[0m\u001b[1;33m)\u001b[0m\u001b[1;33m:\u001b[0m\u001b[1;33m\u001b[0m\u001b[0m\n\u001b[1;32m      3\u001b[0m         \u001b[0mpatient\u001b[0m \u001b[1;33m=\u001b[0m \u001b[0mPatient\u001b[0m\u001b[1;33m(\u001b[0m\u001b[1;36m3\u001b[0m\u001b[1;33m,\u001b[0m \u001b[1;36m1\u001b[0m\u001b[1;33m,\u001b[0m \u001b[0mbarriers\u001b[0m\u001b[1;33m=\u001b[0m\u001b[0mbarrier\u001b[0m\u001b[1;33m,\u001b[0m \u001b[0mpatient_id\u001b[0m\u001b[1;33m=\u001b[0m\u001b[0mpatient_id\u001b[0m\u001b[1;33m)\u001b[0m\u001b[1;33m\u001b[0m\u001b[0m\n\u001b[1;32m      4\u001b[0m         \u001b[0mm_bandits\u001b[0m\u001b[1;33m.\u001b[0m\u001b[0madd_bandit\u001b[0m\u001b[1;33m(\u001b[0m\u001b[0mpatient\u001b[0m\u001b[1;33m)\u001b[0m\u001b[1;33m\u001b[0m\u001b[0m\n\u001b[1;32m      5\u001b[0m \u001b[1;33m\u001b[0m\u001b[0m\n",
      "\u001b[0;31mNameError\u001b[0m: name 'MultiBandits' is not defined"
     ]
    }
   ],
   "source": [
    "m_bandits = MultiBandits()\n",
    "for patient_id, barrier in enumerate(patients):\n",
    "        patient = Patient(3, 1, barriers=barrier, patient_id=patient_id)\n",
    "        m_bandits.add_bandit(patient)\n",
    "\n",
    "\n",
    "np.random.shuffle(m_bandits.bandits)\n",
    "        \n",
    "\n",
    "alpha = 0.1  # ??... 왜 영향을 안끼치지가 아니라 낮을 수록 빨리 수렴하네(exploitation)\n",
    "d=1\n",
    "linucb = LinUCBPolicy(alpha, d)\n",
    "c_agent = ContextualAgent(m_bandits.k, d, linucb)\n",
    "\n",
    "np.mean([bandit.adherence for bandit in m_bandits.bandits])"
   ]
  },
  {
   "cell_type": "markdown",
   "metadata": {},
   "source": [
    "#5. 각 patient당 1번식, state를 받아서, 총 100번의 episode를 돌려보자."
   ]
  },
  {
   "cell_type": "markdown",
   "metadata": {},
   "source": [
    "순서:\n",
    "Patient가 정해지고, agent가 patient의 state을 받는다.  \n",
    "jState을 통해 action이 정해지고, arm을 당긴다  \n",
    "bandit이 반응을 하고, agent가 bandit의 reward를 observe한다.  \n",
    "agent의 state memory가 update 된다."
   ]
  },
  {
   "cell_type": "code",
   "execution_count": 858,
   "metadata": {},
   "outputs": [
    {
     "data": {
      "text/plain": [
       "([<matplotlib.axis.YTick at 0x27e84274080>,\n",
       "  <matplotlib.axis.YTick at 0x27e82f316d8>,\n",
       "  <matplotlib.axis.YTick at 0x27e841b4898>,\n",
       "  <matplotlib.axis.YTick at 0x27e842b0a90>,\n",
       "  <matplotlib.axis.YTick at 0x27e842b54a8>],\n",
       " <a list of 5 Text yticklabel objects>)"
      ]
     },
     "execution_count": 858,
     "metadata": {},
     "output_type": "execute_result"
    },
    {
     "data": {
      "image/png": "[encoded data removed]",
      "text/plain": [
       "<matplotlib.figure.Figure at 0x27e841baa90>"
      ]
     },
     "metadata": {},
     "output_type": "display_data"
    }
   ],
   "source": [
    "episodes = 300\n",
    "trial = 1 \n",
    "\n",
    "average_adh = []\n",
    "average_adh.append(np.mean([bandit.adherence for bandit in m_bandits.bandits]))\n",
    "\n",
    "for episode in range(episodes):\n",
    "\n",
    "    for _ in range(len(m_bandits.bandits)):\n",
    "        m_bandits.get_bandit()\n",
    "        c_agent.get_state(m_bandits.bandit)\n",
    "########RANDOM#######################\n",
    "#         action = np.random.randint(c_agent.k)\n",
    "#         c_agent.last_action = action\n",
    "#####################################\n",
    "\n",
    "########Tailored#####################\n",
    "#         if _ % 3 == 0:\n",
    "#             action = np.random.randint(c_agent.k)\n",
    "#             c_agent.last_action = action\n",
    "#         else:\n",
    "#             action = np.random.choice(np.where(m_bandits.bandit.barriers==1)[0])\n",
    "#             c_agent.last_action = action\n",
    "####################################\n",
    "\n",
    "#########RL############\n",
    "        action = c_agent.choose(random_period=len(m_bandits.bandits)*10)\n",
    "########################\n",
    "#             print('True Optimal Choice :{}\\n'.format(m_bandits.bandit.barriers))\n",
    "        reward = m_bandits.pull(action)\n",
    "        c_agent.observe(reward[0])\n",
    "\n",
    "    average_adh.append(np.mean([bandit.adherence for bandit in m_bandits.bandits]))\n",
    "#         print('Is this action {} optimal ? : {}'.format(action, reward[1]))\n",
    "#         print('current bandit and alpha : {}, {} \\n'.format(m_bandits.bandit, m_bandits.bandit.alphas))\n",
    "plt.plot(average_adh)\n",
    "plt.title(\"Average adherence rate of patients\")\n",
    "plt.yticks([0.5, 0.6, 0.7, 0.8, 0.9])"
   ]
  },
  {
   "cell_type": "code",
   "execution_count": 839,
   "metadata": {},
   "outputs": [
    {
     "data": {
      "text/plain": [
       "0.7628947468588515"
      ]
     },
     "execution_count": 839,
     "metadata": {},
     "output_type": "execute_result"
    }
   ],
   "source": [
    "np.mean(average_adh[-50:])"
   ]
  },
  {
   "cell_type": "markdown",
   "metadata": {},
   "source": [
    "# Tuning Alpha"
   ]
  },
  {
   "cell_type": "code",
   "execution_count": 542,
   "metadata": {},
   "outputs": [
    {
     "data": {
      "text/plain": [
       "[<matplotlib.lines.Line2D at 0x27eff17e160>]"
      ]
     },
     "execution_count": 542,
     "metadata": {},
     "output_type": "execute_result"
    },
    {
     "data": {
      "image/png": "[encoded data removed]",
      "text/plain": [
       "<matplotlib.figure.Figure at 0x27ef9729710>"
      ]
     },
     "metadata": {},
     "output_type": "display_data"
    }
   ],
   "source": [
    "episodes = 300\n",
    "trial = 1 \n",
    "\n",
    "\n",
    "\n",
    "mean_adherence = []\n",
    "for alpha in np.linspace(0, 25, num=50):\n",
    "    m_bandits = MultiBandits()\n",
    "    for patient_id, barrier in enumerate(patients):\n",
    "            patient = Patient(3, 1, barriers=barrier, patient_id=patient_id)\n",
    "            m_bandits.add_bandit(patient)\n",
    "\n",
    "    d = 1\n",
    "    linucb = LinUCBPolicy(alpha, d)\n",
    "    c_agent = ContextualAgent(m_bandits.k, d, linucb)\n",
    "    average_adh = []\n",
    "    average_adh.append(np.mean([bandit.adherence for bandit in m_bandits.bandits]))\n",
    "\n",
    "    for episode in range(episodes):\n",
    "\n",
    "        for _ in range(len(m_bandits.bandits)):\n",
    "            m_bandits.get_bandit()\n",
    "            c_agent.get_state(m_bandits.bandit)\n",
    "            action = c_agent.choose(random_period=len(m_bandits.bandits)*10)\n",
    "#             print('True Optimal Choice :{}\\n'.format(m_bandits.bandit.barriers))\n",
    "            reward = m_bandits.pull(action)\n",
    "            c_agent.observe(reward[0])\n",
    "\n",
    "        average_adh.append(np.mean([bandit.adherence for bandit in m_bandits.bandits]))\n",
    "\n",
    "    mean_adherence.append(np.mean(average_adh))\n",
    "\n",
    "plt.plot(mean_adherence)\n",
    "#         print('Is this action {} optimal ? : {}'.format(action, reward[1]))\n",
    "#         print('current bandit and alpha : {}, {} \\n'.format(m_bandits.bandit, m_bandits.bandit.alphas))\n",
    "# plt.plot(average_adh)\n",
    "# plt.title(\"Average adherence rate of patients\")\n",
    "# plt.yticks([0.5, 0.6, 0.7, 0.8, 0.9])"
   ]
  },
  {
   "cell_type": "code",
   "execution_count": 543,
   "metadata": {},
   "outputs": [
    {
     "data": {
      "text/plain": [
       "<matplotlib.text.Text at 0x27eff091208>"
      ]
     },
     "execution_count": 543,
     "metadata": {},
     "output_type": "execute_result"
    },
    {
     "data": {
      "image/png": "[encoded data removed]",
      "text/plain": [
       "<matplotlib.figure.Figure at 0x27eff313eb8>"
      ]
     },
     "metadata": {},
     "output_type": "display_data"
    }
   ],
   "source": [
    "plt.plot(np.linspace(0, 25, 50), mean_adherence)\n",
    "plt.title(\"Alpha Tuning\")"
   ]
  },
  {
   "cell_type": "code",
   "execution_count": null,
   "metadata": {
    "collapsed": true
   },
   "outputs": [],
   "source": []
  },
  {
   "cell_type": "code",
   "execution_count": null,
   "metadata": {
    "collapsed": true
   },
   "outputs": [],
   "source": []
  },
  {
   "cell_type": "code",
   "execution_count": 664,
   "metadata": {},
   "outputs": [
    {
     "data": {
      "text/plain": [
       "<matplotlib.legend.Legend at 0x27e82b4c2e8>"
      ]
     },
     "execution_count": 664,
     "metadata": {},
     "output_type": "execute_result"
    },
    {
     "data": {
      "image/png": "[encoded data removed]",
      "text/plain": [
       "<matplotlib.figure.Figure at 0x27e82a6f128>"
      ]
     },
     "metadata": {},
     "output_type": "display_data"
    }
   ],
   "source": [
    "plt.plot(RL_avg)\n",
    "plt.plot(Tailored_avg)\n",
    "plt.plot(Random_avg)\n",
    "plt.title(\"Interactions per patient\")\n",
    "plt.yticks([0.5, 0.6, 0.7, 0.8, 0.9])\n",
    "plt.ylabel(\"AverageAdherenceRate\")\n",
    "plt.legend((\"RL\", \"Tailored\", \"Random\"))"
   ]
  },
  {
   "cell_type": "code",
   "execution_count": 509,
   "metadata": {
    "collapsed": true
   },
   "outputs": [],
   "source": [
    "Tailored_avg = average_adh"
   ]
  },
  {
   "cell_type": "code",
   "execution_count": null,
   "metadata": {
    "collapsed": true
   },
   "outputs": [],
   "source": [
    "plt.plot(Tailored_avg)\n",
    "plt.title(\"Interactions per patient, Tailored\")\n",
    "plt.yticks([0.5, 0.6, 0.7, 0.8, 0.9])\n",
    "plt.ylabel(\"AverageAdherenceRate\")"
   ]
  },
  {
   "cell_type": "code",
   "execution_count": 463,
   "metadata": {
    "collapsed": true
   },
   "outputs": [],
   "source": [
    "Random_avg = average_adh"
   ]
  },
  {
   "cell_type": "code",
   "execution_count": 476,
   "metadata": {},
   "outputs": [
    {
     "data": {
      "text/plain": [
       "<matplotlib.text.Text at 0x27efb1d3908>"
      ]
     },
     "execution_count": 476,
     "metadata": {},
     "output_type": "execute_result"
    },
    {
     "data": {
      "image/png": "[encoded data removed]",
      "text/plain": [
       "<matplotlib.figure.Figure at 0x27efb1abf28>"
      ]
     },
     "metadata": {},
     "output_type": "display_data"
    }
   ],
   "source": [
    "plt.plot(Random_avg)\n",
    "plt.title(\"Interactions per patient, Random\")\n",
    "plt.yticks([0.5, 0.6, 0.7, 0.8, 0.9])\n",
    "plt.ylabel(\"AverageAdherenceRate\")"
   ]
  },
  {
   "cell_type": "code",
   "execution_count": 472,
   "metadata": {
    "collapsed": true
   },
   "outputs": [],
   "source": [
    "RL_avg = average_adh"
   ]
  },
  {
   "cell_type": "code",
   "execution_count": 475,
   "metadata": {},
   "outputs": [
    {
     "data": {
      "text/plain": [
       "<matplotlib.text.Text at 0x27efb141978>"
      ]
     },
     "execution_count": 475,
     "metadata": {},
     "output_type": "execute_result"
    },
    {
     "data": {
      "image/png": "[encoded data removed]",
      "text/plain": [
       "<matplotlib.figure.Figure at 0x27efb112cf8>"
      ]
     },
     "metadata": {},
     "output_type": "display_data"
    }
   ],
   "source": [
    "plt.plot(RL_avg)\n",
    "plt.title(\"Interactions per patient, RL\")\n",
    "plt.yticks([0.5, 0.6, 0.7, 0.8, 0.9])\n",
    "plt.ylabel(\"AverageAdherenceRate\")"
   ]
  },
  {
   "cell_type": "code",
   "execution_count": 1114,
   "metadata": {},
   "outputs": [
    {
     "data": {
      "text/plain": [
       "([<matplotlib.axis.YTick at 0x17300874668>,\n",
       "  <matplotlib.axis.YTick at 0x17300874978>,\n",
       "  <matplotlib.axis.YTick at 0x1730086be10>,\n",
       "  <matplotlib.axis.YTick at 0x173008862b0>,\n",
       "  <matplotlib.axis.YTick at 0x17300886c88>],\n",
       " <a list of 5 Text yticklabel objects>)"
      ]
     },
     "execution_count": 1114,
     "metadata": {},
     "output_type": "execute_result"
    },
    {
     "data": {
      "image/png": "[encoded data removed]",
      "text/plain": [
       "<matplotlib.figure.Figure at 0x1730038ea20>"
      ]
     },
     "metadata": {},
     "output_type": "display_data"
    }
   ],
   "source": [
    "plt.plot(average_adh)\n",
    "plt.title(\"Average adherence rate of patients\")\n",
    "plt.yticks([0.5, 0.6, 0.7, 0.8, 0.9])"
   ]
  },
  {
   "cell_type": "code",
   "execution_count": 512,
   "metadata": {
    "collapsed": true
   },
   "outputs": [],
   "source": [
    "import pandas as pd"
   ]
  },
  {
   "cell_type": "code",
   "execution_count": 665,
   "metadata": {
    "collapsed": true
   },
   "outputs": [],
   "source": [
    "df = pd.DataFrame(dict(RL=RL_avg, Random=Random_avg, Tailored=Tailored_avg))"
   ]
  },
  {
   "cell_type": "code",
   "execution_count": 666,
   "metadata": {
    "collapsed": true
   },
   "outputs": [],
   "source": [
    "df.to_csv(\"2017-06-24_Result2.csv\")"
   ]
  },
  {
   "cell_type": "code",
   "execution_count": 15,
   "metadata": {
    "collapsed": true
   },
   "outputs": [],
   "source": [
    "import numpy as np"
   ]
  },
  {
   "cell_type": "code",
   "execution_count": 43,
   "metadata": {
    "collapsed": true
   },
   "outputs": [],
   "source": [
    "a = np.ndarray(shape=(3,1))"
   ]
  },
  {
   "cell_type": "code",
   "execution_count": 45,
   "metadata": {},
   "outputs": [],
   "source": [
    "aa = np.hstack((a, np.ndarray(shape=(3,1))))"
   ]
  },
  {
   "cell_type": "code",
   "execution_count": 54,
   "metadata": {},
   "outputs": [],
   "source": [
    "aa = np.hstack((aa, np.zeros(shape=(3,1))))"
   ]
  },
  {
   "cell_type": "code",
   "execution_count": 55,
   "metadata": {},
   "outputs": [
    {
     "data": {
      "text/plain": [
       "array([[  1.12756537e+093,   1.12756537e+093,   0.00000000e+000],\n",
       "       [  2.22525176e+088,   2.22525176e+088,   0.00000000e+000],\n",
       "       [  1.98388552e-317,   1.98388552e-317,   0.00000000e+000]])"
      ]
     },
     "execution_count": 55,
     "metadata": {},
     "output_type": "execute_result"
    }
   ],
   "source": [
    "aa"
   ]
  },
  {
   "cell_type": "code",
   "execution_count": 88,
   "metadata": {},
   "outputs": [
    {
     "data": {
      "text/plain": [
       "array([ 0.,  0.,  0.])"
      ]
     },
     "execution_count": 88,
     "metadata": {},
     "output_type": "execute_result"
    }
   ],
   "source": [
    "np.apply_along_axis(np.prod, 1, aa[:, -2:])"
   ]
  },
  {
   "cell_type": "code",
   "execution_count": 67,
   "metadata": {},
   "outputs": [],
   "source": [
    "if np.where(aa == 2)[0].size:\n",
    "    print('asdf')"
   ]
  }
 ],
 "metadata": {
  "kernelspec": {
   "display_name": "Python 3",
   "language": "python",
   "name": "python3"
  },
  "language_info": {
   "codemirror_mode": {
    "name": "ipython",
    "version": 3
   },
   "file_extension": ".py",
   "mimetype": "text/x-python",
   "name": "python",
   "nbconvert_exporter": "python",
   "pygments_lexer": "ipython3",
   "version": "3.6.0"
  }
 },
 "nbformat": 4,
 "nbformat_minor": 1
}
